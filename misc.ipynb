{
 "cells": [
  {
   "attachments": {},
   "cell_type": "markdown",
   "metadata": {},
   "source": [
    "# PEP-701: F-strings are better now"
   ]
  },
  {
   "attachments": {},
   "cell_type": "markdown",
   "metadata": {},
   "source": [
    "## Quotes in f-strings"
   ]
  },
  {
   "cell_type": "code",
   "execution_count": 1,
   "metadata": {},
   "outputs": [
    {
     "data": {
      "text/plain": [
       "'Available today: apple, banana'"
      ]
     },
     "execution_count": 1,
     "metadata": {},
     "output_type": "execute_result"
    }
   ],
   "source": [
    "fruits = [\"apple\", \"banana\"]\n",
    "\n",
    "f\"Available today: {\", \".join(fruits)}\""
   ]
  },
  {
   "attachments": {},
   "cell_type": "markdown",
   "metadata": {},
   "source": [
    "## Nested f-strings"
   ]
  },
  {
   "cell_type": "code",
   "execution_count": 2,
   "metadata": {},
   "outputs": [
    {
     "data": {
      "text/plain": [
       "\"['apple', 'banana']\""
      ]
     },
     "execution_count": 2,
     "metadata": {},
     "output_type": "execute_result"
    }
   ],
   "source": [
    "f\"{f\"{fruits}\"}\"  # why?"
   ]
  },
  {
   "attachments": {},
   "cell_type": "markdown",
   "metadata": {},
   "source": [
    "# Itertools\n",
    "## [`itertools.batched`](https://docs.python.org/3.12/library/itertools.html#itertools.batched)"
   ]
  },
  {
   "cell_type": "code",
   "execution_count": 1,
   "metadata": {},
   "outputs": [
    {
     "data": {
      "text/plain": [
       "[('message_1', 'message_2'), ('message_3', 'message_4'), ('message_5',)]"
      ]
     },
     "execution_count": 1,
     "metadata": {},
     "output_type": "execute_result"
    }
   ],
   "source": [
    "from itertools import batched\n",
    "\n",
    "messages = [\"message_1\", \"message_2\", \"message_3\", \"message_4\", \"message_5\"]\n",
    "list(batched(messages, 2))"
   ]
  },
  {
   "attachments": {},
   "cell_type": "markdown",
   "metadata": {},
   "source": [
    "# Json\n",
    "## [`json.AttrDict`](https://docs.python.org/3.12/library/json.html#json.AttrDict)\n",
    "Similar behaviour to JS objects, you can use . getattr to access dictionary elements"
   ]
  },
  {
   "cell_type": "code",
   "execution_count": 3,
   "metadata": {},
   "outputs": [
    {
     "data": {
      "text/plain": [
       "1"
      ]
     },
     "execution_count": 3,
     "metadata": {},
     "output_type": "execute_result"
    }
   ],
   "source": [
    "import json\n",
    "\n",
    "d = json.AttrDict({'a': 1, 'b': 2})\n",
    "d.a"
   ]
  },
  {
   "attachments": {},
   "cell_type": "markdown",
   "metadata": {},
   "source": [
    "# Slice objects are now hashable\n",
    "\n",
    "The significance is that we can now use it as dictionary keys or in a set. Which will allow us to cache it."
   ]
  },
  {
   "cell_type": "code",
   "execution_count": 8,
   "metadata": {},
   "outputs": [],
   "source": [
    "from dataclasses import dataclass\n",
    "\n",
    "from functools import cache\n",
    "\n",
    "\n",
    "@dataclass\n",
    "class Vector[T]:\n",
    "    data: list[T]\n",
    "\n",
    "    def __hash__(self) -> int:\n",
    "        return hash(id(self))\n",
    "\n",
    "    @cache\n",
    "    def __getitem__(self, range: slice) -> \"Vector[T]\":\n",
    "        print(f\"Fetching {range = }\")\n",
    "        return Vector(self.data[range])\n"
   ]
  },
  {
   "cell_type": "code",
   "execution_count": 10,
   "metadata": {},
   "outputs": [
    {
     "name": "stdout",
     "output_type": "stream",
     "text": [
      "Fetching range = slice(1, 100, None)\n"
     ]
    }
   ],
   "source": [
    "vec = Vector(list(range(100)))\n",
    "for _ in range(5):\n",
    "    vec[1:100]   # type: ignore"
   ]
  }
 ],
 "metadata": {
  "kernelspec": {
   "display_name": ".venv",
   "language": "python",
   "name": "python3"
  },
  "language_info": {
   "codemirror_mode": {
    "name": "ipython",
    "version": 3
   },
   "file_extension": ".py",
   "mimetype": "text/x-python",
   "name": "python",
   "nbconvert_exporter": "python",
   "pygments_lexer": "ipython3",
   "version": "3.12.0"
  },
  "orig_nbformat": 4
 },
 "nbformat": 4,
 "nbformat_minor": 2
}
