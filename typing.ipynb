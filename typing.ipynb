{
 "cells": [
  {
   "attachments": {},
   "cell_type": "markdown",
   "metadata": {},
   "source": [
    "# PEP-695: Type Parameter Syntax"
   ]
  },
  {
   "attachments": {},
   "cell_type": "markdown",
   "metadata": {},
   "source": [
    "Changes has been made to the syntax to make typing in python feel more first class. This include removing the need to import and explicitly declare a `TypeVar` or a `TypeVarTuple`."
   ]
  },
  {
   "attachments": {},
   "cell_type": "markdown",
   "metadata": {},
   "source": [
    "### The new `TypeAlias`"
   ]
  },
  {
   "attachments": {},
   "cell_type": "markdown",
   "metadata": {},
   "source": [
    "Let's start with `TypeAlias`, a type alias can contain a `TypeVar` likes so:"
   ]
  },
  {
   "cell_type": "code",
   "execution_count": 2,
   "metadata": {},
   "outputs": [],
   "source": [
    "from typing import TypeAlias, TypeVar, assert_type\n",
    "\n",
    "T = TypeVar(\"T\")\n",
    "\n",
    "OldPair: TypeAlias = tuple[T, T]\n",
    "\n",
    "\n",
    "def use_pair_old(pair: OldPair[int]) -> None:\n",
    "    ...\n",
    "\n",
    "\n",
    "use_pair_old((1, 3))\n"
   ]
  },
  {
   "attachments": {},
   "cell_type": "markdown",
   "metadata": {},
   "source": [
    "The new syntax completely removes the need for the `TypeVar`"
   ]
  },
  {
   "cell_type": "code",
   "execution_count": 3,
   "metadata": {},
   "outputs": [],
   "source": [
    "type NewPair[T] = tuple[T, T]\n",
    "\n",
    "\n",
    "def use_pair(pair: NewPair[int]) -> None:\n",
    "    ...\n",
    "\n",
    "\n",
    "use_pair_old((1, 3))\n"
   ]
  },
  {
   "attachments": {},
   "cell_type": "markdown",
   "metadata": {},
   "source": [
    "Syntax also added for more complex situations:"
   ]
  },
  {
   "attachments": {},
   "cell_type": "markdown",
   "metadata": {},
   "source": [
    "##### TypeVarTuple"
   ]
  },
  {
   "cell_type": "code",
   "execution_count": 4,
   "metadata": {},
   "outputs": [],
   "source": [
    "from typing import Iterable, TypeVarTuple\n",
    "\n",
    "\n",
    "# OLD\n",
    "Ts = TypeVarTuple(\"Ts\")\n",
    "QueryResultOld: TypeAlias = Iterable[tuple[*Ts]]\n",
    "\n",
    "# New\n",
    "type QueryResult[*Ts] = Iterable[tuple[*Ts]]  "
   ]
  },
  {
   "attachments": {},
   "cell_type": "markdown",
   "metadata": {},
   "source": [
    "##### ParamSpec"
   ]
  },
  {
   "cell_type": "code",
   "execution_count": 5,
   "metadata": {},
   "outputs": [],
   "source": [
    "from typing import Callable, ParamSpec\n",
    "\n",
    "\n",
    "P = ParamSpec(\"P\")\n",
    "\n",
    "OldCastFunction: TypeAlias = Callable[[Callable[P, float]], Callable[P, int]]\n",
    "\n",
    "type CastFunction[**P] = Callable[[Callable[P, float]], Callable[P, int]]"
   ]
  },
  {
   "attachments": {},
   "cell_type": "markdown",
   "metadata": {},
   "source": [
    "##### Bound/Constraints"
   ]
  },
  {
   "cell_type": "code",
   "execution_count": 6,
   "metadata": {},
   "outputs": [],
   "source": [
    "from decimal import Decimal\n",
    "from typing import Callable, Hashable, TypeAlias, TypeVar\n",
    "\n",
    "\n",
    "# Bound\n",
    "T = TypeVar(\"T\", bound=Hashable)\n",
    "\n",
    "HashFunctionOld: TypeAlias = Callable[[T], int]\n",
    "\n",
    "\n",
    "type HashFunction[T: Hashable] = Callable[[T], int]\n",
    "\n",
    "\n",
    "# Constraints\n",
    "T = TypeVar(\"T\", Decimal, int, float)\n",
    "\n",
    "UnitConverterOld: TypeAlias = Callable[[T], T]\n",
    "\n",
    "type UnitCoverter[T: (Decimal, int, float)] = Callable[[T], T] \n"
   ]
  },
  {
   "attachments": {},
   "cell_type": "markdown",
   "metadata": {},
   "source": [
    "### Function Type Parameter\n",
    "\n",
    "New syntax will work in generic functions, including using the bound/constraint syntax"
   ]
  },
  {
   "cell_type": "code",
   "execution_count": 7,
   "metadata": {},
   "outputs": [
    {
     "name": "stderr",
     "output_type": "stream",
     "text": [
      "Runtime type is 'str'\n",
      "Runtime type is 'str'\n"
     ]
    },
    {
     "data": {
      "text/plain": [
       "'a'"
      ]
     },
     "execution_count": 7,
     "metadata": {},
     "output_type": "execute_result"
    }
   ],
   "source": [
    "from typing import Iterable, TypeVar, reveal_type\n",
    "\n",
    "T = TypeVar(\"T\", int, float, str)\n",
    "\n",
    "def old_first(it: Iterable[T]) -> T | None:\n",
    "    for element in it:\n",
    "        return element\n",
    "    \n",
    "    return None\n",
    "\n",
    "\n",
    "reveal_type(old_first(['a']))\n",
    "\n",
    "\n",
    "def first[T: (int, float, str)](it: Iterable[T]) -> T | None:\n",
    "    for element in it:\n",
    "        return element\n",
    "    \n",
    "    return None\n",
    "\n",
    "reveal_type(first(['a']))"
   ]
  },
  {
   "attachments": {},
   "cell_type": "markdown",
   "metadata": {},
   "source": [
    "### `Generics`"
   ]
  },
  {
   "attachments": {},
   "cell_type": "markdown",
   "metadata": {},
   "source": [
    "Likewise with generics:"
   ]
  },
  {
   "cell_type": "code",
   "execution_count": 8,
   "metadata": {},
   "outputs": [
    {
     "name": "stderr",
     "output_type": "stream",
     "text": [
      "Runtime type is 'Matix'\n"
     ]
    },
    {
     "data": {
      "text/plain": [
       "Matix(data=[[1]])"
      ]
     },
     "execution_count": 8,
     "metadata": {},
     "output_type": "execute_result"
    }
   ],
   "source": [
    "from dataclasses import dataclass\n",
    "from typing import Generic\n",
    "\n",
    "T = TypeVar(\"T\")\n",
    "\n",
    "\n",
    "@dataclass\n",
    "class OldMatix(Generic[T]):\n",
    "    data: list[list[T]]\n",
    "\n",
    "    def __getitem__(self, location: tuple[int, int]) -> T:\n",
    "        return self.data[location[0]][location[1]]\n",
    "    \n",
    "\n",
    "@dataclass\n",
    "class Matix[T]:\n",
    "    data: list[list[T]]\n",
    "\n",
    "    def __getitem__(self, location: tuple[int, int]) -> T:\n",
    "        return self.data[location[0]][location[1]]\n",
    "    \n",
    "\n",
    "reveal_type(Matix([[1]]))"
   ]
  },
  {
   "attachments": {},
   "cell_type": "markdown",
   "metadata": {},
   "source": [
    "Note: Type var syntax introduces annotation scopes similar to function scopes. https://docs.python.org/3.12/reference/executionmodel.html#annotation-scopes"
   ]
  },
  {
   "attachments": {},
   "cell_type": "markdown",
   "metadata": {},
   "source": [
    "# PEP 698: Override Decorator for Static Typing\n",
    "\n",
    "This is something important in Java, in Python it depends on how you write your code. \n",
    "\n",
    "`ABC` and `Protocol`s already do this if you're writing 'interface style classes', but if you love inheritance for some reason you can use this to check that you're overriding correctly.\n"
   ]
  },
  {
   "cell_type": "code",
   "execution_count": 11,
   "metadata": {},
   "outputs": [],
   "source": [
    "from typing import override  # type: ignore\n",
    "\n",
    "\n",
    "class BaseClient:\n",
    "    def send(self, values: dict) -> None:\n",
    "        ...\n",
    "\n",
    "\n",
    "class MyClient(BaseClient):\n",
    "    @override  # Errors\n",
    "    def spend(self, values: dict) -> None:\n",
    "        ...\n"
   ]
  },
  {
   "attachments": {},
   "cell_type": "markdown",
   "metadata": {},
   "source": [
    "# PEP 692 – Using TypedDict for more precise **kwargs typing"
   ]
  },
  {
   "cell_type": "code",
   "execution_count": 1,
   "metadata": {},
   "outputs": [],
   "source": [
    "from typing import NotRequired, TypedDict, Unpack, assert_type\n",
    "from uuid import UUID\n",
    "\n",
    "\n",
    "class Metadata(TypedDict):\n",
    "    sender: str\n",
    "    request_id: NotRequired[UUID]\n",
    "\n",
    "\n",
    "def handler(data: dict, **metadata: Unpack[Metadata]) -> None:\n",
    "    assert_type(metadata[\"sender\"], str)\n"
   ]
  },
  {
   "attachments": {},
   "cell_type": "markdown",
   "metadata": {},
   "source": [
    "# Minor Typing Changes\n",
    "These changes are minor and don't have a `PEP` associated."
   ]
  },
  {
   "attachments": {},
   "cell_type": "markdown",
   "metadata": {},
   "source": [
    "#### [`typing.get_original_bases`](https://docs.python.org/3.12/library/types.html#types.get_original_bases)\n",
    "\n",
    "We can now introspect the runtime generic type bases of a class, this is likely driven by Pydantic and FastAPI"
   ]
  },
  {
   "cell_type": "code",
   "execution_count": 12,
   "metadata": {},
   "outputs": [
    {
     "data": {
      "text/plain": [
       "(typing.Iterable[int],)"
      ]
     },
     "execution_count": 12,
     "metadata": {},
     "output_type": "execute_result"
    }
   ],
   "source": [
    "from types import get_original_bases\n",
    "from typing import Iterable\n",
    "\n",
    "\n",
    "class NatualValues(Iterable[int]):\n",
    "    def __iter__(self):\n",
    "        n = 1\n",
    "        while True:\n",
    "            yield n\n",
    "            n += 1\n",
    "\n",
    "\n",
    "get_original_bases(NatualValues)"
   ]
  },
  {
   "attachments": {},
   "cell_type": "markdown",
   "metadata": {},
   "source": [
    "#### `array.array` is now a generic type"
   ]
  },
  {
   "cell_type": "code",
   "execution_count": 1,
   "metadata": {},
   "outputs": [],
   "source": [
    "from array import array\n",
    "\n",
    "a: array[int] = array('i', [1, 2])"
   ]
  }
 ],
 "metadata": {
  "kernelspec": {
   "display_name": ".venv",
   "language": "python",
   "name": "python3"
  },
  "language_info": {
   "codemirror_mode": {
    "name": "ipython",
    "version": 3
   },
   "file_extension": ".py",
   "mimetype": "text/x-python",
   "name": "python",
   "nbconvert_exporter": "python",
   "pygments_lexer": "ipython3",
   "version": "3.12.0b1"
  },
  "orig_nbformat": 4
 },
 "nbformat": 4,
 "nbformat_minor": 2
}
